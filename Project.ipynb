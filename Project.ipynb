{
 "cells": [
  {
   "cell_type": "markdown",
   "metadata": {},
   "source": [
    "Stock Price Prediction Project\n",
    "The challenge of this project is to accurately predict the future closing value of a given stock across a given period of time in the future. For this project I will use a Long Short Term Memory networks – usually just called “LSTMs” to predict the closing price of the AAPL stock using a dataset of past prices"
   ]
  },
  {
   "cell_type": "code",
   "execution_count": 4,
   "metadata": {},
   "outputs": [
    {
     "name": "stderr",
     "output_type": "stream",
     "text": [
      "/Library/Frameworks/Python.framework/Versions/3.10/lib/python3.10/site-packages/pandas_datareader/tiingo.py:234: FutureWarning: In a future version of pandas all arguments of concat except for the argument 'objs' will be keyword-only\n",
      "  return pd.concat(dfs, self._concat_axis)\n"
     ]
    }
   ],
   "source": [
    "import pandas_datareader as pdr\n",
    "import pandas as pd\n",
    "import numpy as np\n",
    "\n",
    "import matplotlib.pyplot as plt\n",
    "key=\"613b5818bb5608fa31fd41a93ae9fea4fd221980\"\n",
    "\n",
    "data = pdr.get_data_tiingo('AAPL', api_key=key)\n",
    "data.to_csv('AAPL.csv')\n"
   ]
  },
  {
   "cell_type": "code",
   "execution_count": 5,
   "metadata": {},
   "outputs": [
    {
     "data": {
      "text/html": [
       "<div>\n",
       "<style scoped>\n",
       "    .dataframe tbody tr th:only-of-type {\n",
       "        vertical-align: middle;\n",
       "    }\n",
       "\n",
       "    .dataframe tbody tr th {\n",
       "        vertical-align: top;\n",
       "    }\n",
       "\n",
       "    .dataframe thead th {\n",
       "        text-align: right;\n",
       "    }\n",
       "</style>\n",
       "<table border=\"1\" class=\"dataframe\">\n",
       "  <thead>\n",
       "    <tr style=\"text-align: right;\">\n",
       "      <th></th>\n",
       "      <th>symbol</th>\n",
       "      <th>date</th>\n",
       "      <th>close</th>\n",
       "      <th>high</th>\n",
       "      <th>low</th>\n",
       "      <th>open</th>\n",
       "      <th>volume</th>\n",
       "      <th>adjClose</th>\n",
       "      <th>adjHigh</th>\n",
       "      <th>adjLow</th>\n",
       "      <th>adjOpen</th>\n",
       "      <th>adjVolume</th>\n",
       "      <th>divCash</th>\n",
       "      <th>splitFactor</th>\n",
       "    </tr>\n",
       "  </thead>\n",
       "  <tbody>\n",
       "    <tr>\n",
       "      <th>0</th>\n",
       "      <td>AAPL</td>\n",
       "      <td>2017-11-06 00:00:00+00:00</td>\n",
       "      <td>174.25</td>\n",
       "      <td>174.990</td>\n",
       "      <td>171.72</td>\n",
       "      <td>172.365</td>\n",
       "      <td>34242566</td>\n",
       "      <td>41.341395</td>\n",
       "      <td>41.516962</td>\n",
       "      <td>40.741144</td>\n",
       "      <td>40.894172</td>\n",
       "      <td>136970264</td>\n",
       "      <td>0.00</td>\n",
       "      <td>1.0</td>\n",
       "    </tr>\n",
       "    <tr>\n",
       "      <th>1</th>\n",
       "      <td>AAPL</td>\n",
       "      <td>2017-11-07 00:00:00+00:00</td>\n",
       "      <td>174.81</td>\n",
       "      <td>175.250</td>\n",
       "      <td>173.60</td>\n",
       "      <td>173.910</td>\n",
       "      <td>23910914</td>\n",
       "      <td>41.474257</td>\n",
       "      <td>41.578648</td>\n",
       "      <td>41.187180</td>\n",
       "      <td>41.260729</td>\n",
       "      <td>95643656</td>\n",
       "      <td>0.00</td>\n",
       "      <td>1.0</td>\n",
       "    </tr>\n",
       "    <tr>\n",
       "      <th>2</th>\n",
       "      <td>AAPL</td>\n",
       "      <td>2017-11-08 00:00:00+00:00</td>\n",
       "      <td>176.24</td>\n",
       "      <td>176.240</td>\n",
       "      <td>174.33</td>\n",
       "      <td>174.660</td>\n",
       "      <td>23907639</td>\n",
       "      <td>41.813529</td>\n",
       "      <td>41.813529</td>\n",
       "      <td>41.360375</td>\n",
       "      <td>41.438669</td>\n",
       "      <td>95630556</td>\n",
       "      <td>0.00</td>\n",
       "      <td>1.0</td>\n",
       "    </tr>\n",
       "    <tr>\n",
       "      <th>3</th>\n",
       "      <td>AAPL</td>\n",
       "      <td>2017-11-09 00:00:00+00:00</td>\n",
       "      <td>175.88</td>\n",
       "      <td>176.095</td>\n",
       "      <td>173.14</td>\n",
       "      <td>175.110</td>\n",
       "      <td>28636531</td>\n",
       "      <td>41.728118</td>\n",
       "      <td>41.779127</td>\n",
       "      <td>41.078044</td>\n",
       "      <td>41.545433</td>\n",
       "      <td>114546124</td>\n",
       "      <td>0.00</td>\n",
       "      <td>1.0</td>\n",
       "    </tr>\n",
       "    <tr>\n",
       "      <th>4</th>\n",
       "      <td>AAPL</td>\n",
       "      <td>2017-11-10 00:00:00+00:00</td>\n",
       "      <td>174.67</td>\n",
       "      <td>175.380</td>\n",
       "      <td>174.27</td>\n",
       "      <td>175.110</td>\n",
       "      <td>25061183</td>\n",
       "      <td>41.590511</td>\n",
       "      <td>41.759568</td>\n",
       "      <td>41.495267</td>\n",
       "      <td>41.695279</td>\n",
       "      <td>100244732</td>\n",
       "      <td>0.63</td>\n",
       "      <td>1.0</td>\n",
       "    </tr>\n",
       "  </tbody>\n",
       "</table>\n",
       "</div>"
      ],
      "text/plain": [
       "  symbol                       date   close     high     low     open  \\\n",
       "0   AAPL  2017-11-06 00:00:00+00:00  174.25  174.990  171.72  172.365   \n",
       "1   AAPL  2017-11-07 00:00:00+00:00  174.81  175.250  173.60  173.910   \n",
       "2   AAPL  2017-11-08 00:00:00+00:00  176.24  176.240  174.33  174.660   \n",
       "3   AAPL  2017-11-09 00:00:00+00:00  175.88  176.095  173.14  175.110   \n",
       "4   AAPL  2017-11-10 00:00:00+00:00  174.67  175.380  174.27  175.110   \n",
       "\n",
       "     volume   adjClose    adjHigh     adjLow    adjOpen  adjVolume  divCash  \\\n",
       "0  34242566  41.341395  41.516962  40.741144  40.894172  136970264     0.00   \n",
       "1  23910914  41.474257  41.578648  41.187180  41.260729   95643656     0.00   \n",
       "2  23907639  41.813529  41.813529  41.360375  41.438669   95630556     0.00   \n",
       "3  28636531  41.728118  41.779127  41.078044  41.545433  114546124     0.00   \n",
       "4  25061183  41.590511  41.759568  41.495267  41.695279  100244732     0.63   \n",
       "\n",
       "   splitFactor  \n",
       "0          1.0  \n",
       "1          1.0  \n",
       "2          1.0  \n",
       "3          1.0  \n",
       "4          1.0  "
      ]
     },
     "execution_count": 5,
     "metadata": {},
     "output_type": "execute_result"
    }
   ],
   "source": [
    "data=pd.read_csv('AAPL.csv')\n",
    "data.head()"
   ]
  },
  {
   "cell_type": "code",
   "execution_count": 6,
   "metadata": {},
   "outputs": [
    {
     "name": "stdout",
     "output_type": "stream",
     "text": [
      "1257 14\n"
     ]
    }
   ],
   "source": [
    "n,p=data.shape\n",
    "print(n,p)"
   ]
  },
  {
   "cell_type": "code",
   "execution_count": 7,
   "metadata": {},
   "outputs": [
    {
     "data": {
      "text/plain": [
       "symbol         0.0\n",
       "date           0.0\n",
       "close          0.0\n",
       "high           0.0\n",
       "low            0.0\n",
       "open           0.0\n",
       "volume         0.0\n",
       "adjClose       0.0\n",
       "adjHigh        0.0\n",
       "adjLow         0.0\n",
       "adjOpen        0.0\n",
       "adjVolume      0.0\n",
       "divCash        0.0\n",
       "splitFactor    0.0\n",
       "dtype: float64"
      ]
     },
     "execution_count": 7,
     "metadata": {},
     "output_type": "execute_result"
    }
   ],
   "source": [
    "data.isnull().sum()*100/n"
   ]
  },
  {
   "cell_type": "code",
   "execution_count": 8,
   "metadata": {},
   "outputs": [
    {
     "name": "stdout",
     "output_type": "stream",
     "text": [
      "<class 'pandas.core.frame.DataFrame'>\n",
      "RangeIndex: 1257 entries, 0 to 1256\n",
      "Data columns (total 14 columns):\n",
      " #   Column       Non-Null Count  Dtype  \n",
      "---  ------       --------------  -----  \n",
      " 0   symbol       1257 non-null   object \n",
      " 1   date         1257 non-null   object \n",
      " 2   close        1257 non-null   float64\n",
      " 3   high         1257 non-null   float64\n",
      " 4   low          1257 non-null   float64\n",
      " 5   open         1257 non-null   float64\n",
      " 6   volume       1257 non-null   int64  \n",
      " 7   adjClose     1257 non-null   float64\n",
      " 8   adjHigh      1257 non-null   float64\n",
      " 9   adjLow       1257 non-null   float64\n",
      " 10  adjOpen      1257 non-null   float64\n",
      " 11  adjVolume    1257 non-null   int64  \n",
      " 12  divCash      1257 non-null   float64\n",
      " 13  splitFactor  1257 non-null   float64\n",
      "dtypes: float64(10), int64(2), object(2)\n",
      "memory usage: 137.6+ KB\n"
     ]
    }
   ],
   "source": [
    "data.info()"
   ]
  },
  {
   "cell_type": "code",
   "execution_count": 9,
   "metadata": {},
   "outputs": [
    {
     "name": "stdout",
     "output_type": "stream",
     "text": [
      "\n",
      "\n",
      "Open   --- Mean : 191.47555926809864   \t Std:  68.29221612789976   \t Max:  514.79   \t Min:  104.54\n",
      "High   --- Mean : 193.73206571201274   \t Std:  69.21580533113259   \t Max:  515.14   \t Min:  110.19\n",
      "Low    --- Mean : 189.43750668257755   \t Std:  67.58580434330878   \t Max:  500.33   \t Min:  103.1\n",
      "Close  --- Mean : 191.7036276849642   \t Std:  68.57896365542653   \t Max:  506.09   \t Min:  106.84\n",
      "Volume --- Mean : 61021105.00954654   \t Std:  40995995.315369666   \t Max:  332607163   \t Min:  11362045\n"
     ]
    }
   ],
   "source": [
    "\n",
    "\n",
    "print(\"\\n\")\n",
    "print(\"Open   --- Mean :\", np.mean(data['open']),  \"  \\t Std: \", np.std(data['open']),  \"  \\t Max: \", np.max(data['open']),  \"  \\t Min: \", np.min(data['open']))\n",
    "print(\"High   --- Mean :\", np.mean(data['high']),  \"  \\t Std: \", np.std(data['high']),  \"  \\t Max: \", np.max(data['high']),  \"  \\t Min: \", np.min(data['high']))\n",
    "print(\"Low    --- Mean :\", np.mean(data['low']),   \"  \\t Std: \", np.std(data['low']),   \"  \\t Max: \", np.max(data['low']),   \"  \\t Min: \", np.min(data['low']))\n",
    "print(\"Close  --- Mean :\", np.mean(data['close']), \"  \\t Std: \", np.std(data['close']), \"  \\t Max: \", np.max(data['close']), \"  \\t Min: \", np.min(data['close']))\n",
    "print(\"Volume --- Mean :\", np.mean(data['volume']),\"  \\t Std: \", np.std(data['volume']),\"  \\t Max: \", np.max(data['volume']),\"  \\t Min: \", np.min(data['volume']))"
   ]
  },
  {
   "cell_type": "code",
   "execution_count": 10,
   "metadata": {},
   "outputs": [
    {
     "name": "stdout",
     "output_type": "stream",
     "text": [
      "  symbol                       date   close     low     open    volume\n",
      "0   AAPL  2017-11-06 00:00:00+00:00  174.25  171.72  172.365  34242566\n",
      "1   AAPL  2017-11-07 00:00:00+00:00  174.81  173.60  173.910  23910914\n",
      "2   AAPL  2017-11-08 00:00:00+00:00  176.24  174.33  174.660  23907639\n",
      "3   AAPL  2017-11-09 00:00:00+00:00  175.88  173.14  175.110  28636531\n",
      "4   AAPL  2017-11-10 00:00:00+00:00  174.67  174.27  175.110  25061183\n",
      "     symbol                       date   close     low     open     volume\n",
      "1252   AAPL  2022-10-27 00:00:00+00:00  144.80  144.13  148.070  109180150\n",
      "1253   AAPL  2022-10-28 00:00:00+00:00  155.74  147.82  148.200  164762371\n",
      "1254   AAPL  2022-10-31 00:00:00+00:00  153.34  151.92  153.155   97943171\n",
      "1255   AAPL  2022-11-01 00:00:00+00:00  150.65  149.13  155.080   80379345\n",
      "1256   AAPL  2022-11-02 00:00:00+00:00  145.03  145.00  148.945   93604623\n"
     ]
    }
   ],
   "source": [
    "df= data.drop(['high','adjClose','adjHigh','adjLow','adjOpen','adjVolume','divCash','splitFactor'], axis= 1)\n",
    "print(df.head())\n",
    "print(df.tail())\n"
   ]
  },
  {
   "cell_type": "code",
   "execution_count": 11,
   "metadata": {},
   "outputs": [
    {
     "name": "stdout",
     "output_type": "stream",
     "text": [
      "1257 6\n"
     ]
    }
   ],
   "source": [
    "n,p=df.shape\n",
    "print(n,p)"
   ]
  },
  {
   "cell_type": "code",
   "execution_count": 14,
   "metadata": {},
   "outputs": [
    {
     "data": {
      "text/html": [
       "<div>\n",
       "<style scoped>\n",
       "    .dataframe tbody tr th:only-of-type {\n",
       "        vertical-align: middle;\n",
       "    }\n",
       "\n",
       "    .dataframe tbody tr th {\n",
       "        vertical-align: top;\n",
       "    }\n",
       "\n",
       "    .dataframe thead th {\n",
       "        text-align: right;\n",
       "    }\n",
       "</style>\n",
       "<table border=\"1\" class=\"dataframe\">\n",
       "  <thead>\n",
       "    <tr style=\"text-align: right;\">\n",
       "      <th></th>\n",
       "      <th>close</th>\n",
       "      <th>low</th>\n",
       "      <th>open</th>\n",
       "      <th>volume</th>\n",
       "    </tr>\n",
       "  </thead>\n",
       "  <tbody>\n",
       "    <tr>\n",
       "      <th>close</th>\n",
       "      <td>1.000000</td>\n",
       "      <td>0.999447</td>\n",
       "      <td>0.998916</td>\n",
       "      <td>-0.465053</td>\n",
       "    </tr>\n",
       "    <tr>\n",
       "      <th>low</th>\n",
       "      <td>0.999447</td>\n",
       "      <td>1.000000</td>\n",
       "      <td>0.999462</td>\n",
       "      <td>-0.473903</td>\n",
       "    </tr>\n",
       "    <tr>\n",
       "      <th>open</th>\n",
       "      <td>0.998916</td>\n",
       "      <td>0.999462</td>\n",
       "      <td>1.000000</td>\n",
       "      <td>-0.463738</td>\n",
       "    </tr>\n",
       "    <tr>\n",
       "      <th>volume</th>\n",
       "      <td>-0.465053</td>\n",
       "      <td>-0.473903</td>\n",
       "      <td>-0.463738</td>\n",
       "      <td>1.000000</td>\n",
       "    </tr>\n",
       "  </tbody>\n",
       "</table>\n",
       "</div>"
      ],
      "text/plain": [
       "           close       low      open    volume\n",
       "close   1.000000  0.999447  0.998916 -0.465053\n",
       "low     0.999447  1.000000  0.999462 -0.473903\n",
       "open    0.998916  0.999462  1.000000 -0.463738\n",
       "volume -0.465053 -0.473903 -0.463738  1.000000"
      ]
     },
     "execution_count": 14,
     "metadata": {},
     "output_type": "execute_result"
    }
   ],
   "source": [
    "# correlation read\n",
    "corr = df.corr()\n",
    "#pd.plotting.scatter_matrix(corr);\n",
    "corr"
   ]
  },
  {
   "cell_type": "code",
   "execution_count": 15,
   "metadata": {},
   "outputs": [
    {
     "data": {
      "text/plain": [
       "<AxesSubplot: >"
      ]
     },
     "execution_count": 15,
     "metadata": {},
     "output_type": "execute_result"
    },
    {
     "data": {
      "image/png": "[encoded data removed]",
      "text/plain": [
       "<Figure size 1440x432 with 1 Axes>"
      ]
     },
     "metadata": {
      "needs_background": "light"
     },
     "output_type": "display_data"
    }
   ],
   "source": [
    "# visualisation\n",
    "plt.figure(figsize=(20,6))\n",
    "df['close'].plot()\n"
   ]
  },
  {
   "cell_type": "code",
   "execution_count": 16,
   "metadata": {},
   "outputs": [],
   "source": [
    "df=df.reset_index()['close']\n"
   ]
  },
  {
   "cell_type": "code",
   "execution_count": 17,
   "metadata": {},
   "outputs": [],
   "source": [
    "#scaling\n",
    "from sklearn.preprocessing import MinMaxScaler\n",
    "scalar = MinMaxScaler(feature_range=(0, 1))\n",
    "df = scalar.fit_transform(df.to_numpy().reshape(-1, 1))"
   ]
  },
  {
   "cell_type": "code",
   "execution_count": 18,
   "metadata": {},
   "outputs": [
    {
     "name": "stdout",
     "output_type": "stream",
     "text": [
      "[[0.16884158]\n",
      " [0.17024421]\n",
      " [0.17382592]\n",
      " ...\n",
      " [0.11646838]\n",
      " [0.10973075]\n",
      " [0.09565435]]\n"
     ]
    }
   ],
   "source": [
    " print(df)"
   ]
  },
  {
   "cell_type": "code",
   "execution_count": 19,
   "metadata": {},
   "outputs": [
    {
     "name": "stdout",
     "output_type": "stream",
     "text": [
      "(791, 1) (466, 1)\n"
     ]
    }
   ],
   "source": [
    "#training and test set\n",
    "training_size=int(len(df)*0.63)\n",
    "test_size=len(df)-training_size\n",
    "train_data,test_data=df[0:training_size],df[training_size:len(df)]\n",
    "print(train_data.shape, test_data.shape)"
   ]
  },
  {
   "cell_type": "code",
   "execution_count": 20,
   "metadata": {},
   "outputs": [
    {
     "data": {
      "image/png": "[encoded data removed]",
      "text/plain": [
       "<Figure size 1440x432 with 1 Axes>"
      ]
     },
     "metadata": {
      "needs_background": "light"
     },
     "output_type": "display_data"
    }
   ],
   "source": [
    "#visualisation\n",
    "plt.figure(figsize=(20,6))\n",
    "plt.plot(train_data, 'blue', test_data, 'orange')\n",
    "plt.legend([\"Train\",\"Test\"])\n",
    "plt.show()"
   ]
  },
  {
   "cell_type": "code",
   "execution_count": 21,
   "metadata": {},
   "outputs": [],
   "source": [
    "\n",
    "# convert an array of values into a dataset matrix\n",
    "def create_dataset(dataset, time_step=1):\n",
    "\tdataX, dataY = [], []\n",
    "\tfor i in range(len(dataset)-time_step-1):\n",
    "\t\ta = dataset[i:(i+time_step), 0]   ###i=0, 0,1,2,3-----99   100 \n",
    "\t\tdataX.append(a)\n",
    "\t\tdataY.append(dataset[i + time_step, 0])\n",
    "\treturn np.array(dataX), np.array(dataY)\n",
    "\n"
   ]
  },
  {
   "cell_type": "code",
   "execution_count": 22,
   "metadata": {},
   "outputs": [
    {
     "name": "stdout",
     "output_type": "stream",
     "text": [
      "(690, 100)\n",
      "(690,)\n"
     ]
    },
    {
     "data": {
      "text/plain": [
       "(None, None)"
      ]
     },
     "execution_count": 22,
     "metadata": {},
     "output_type": "execute_result"
    }
   ],
   "source": [
    "# reshape into X=t,t+1,t+2,t+3 and Y=t+4\n",
    "time_step = 100\n",
    "X_train, y_train = create_dataset(train_data, time_step)\n",
    "X_test, ytest = create_dataset(test_data, time_step)\n",
    "print(X_train.shape), print(y_train.shape)\n",
    "\n"
   ]
  },
  {
   "cell_type": "code",
   "execution_count": 23,
   "metadata": {},
   "outputs": [
    {
     "name": "stdout",
     "output_type": "stream",
     "text": [
      "(365, 100)\n",
      "(365,)\n"
     ]
    },
    {
     "data": {
      "text/plain": [
       "(None, None)"
      ]
     },
     "execution_count": 23,
     "metadata": {},
     "output_type": "execute_result"
    }
   ],
   "source": [
    "print(X_test.shape), print(ytest.shape)\n",
    "\n"
   ]
  },
  {
   "cell_type": "code",
   "execution_count": 24,
   "metadata": {},
   "outputs": [],
   "source": [
    "# reshape input to be [samples, time steps, features] which is required for LSTM\n",
    "X_train =X_train.reshape(X_train.shape[0],X_train.shape[1] , 1)\n",
    "X_test = X_test.reshape(X_test.shape[0],X_test.shape[1] , 1)\n"
   ]
  },
  {
   "cell_type": "code",
   "execution_count": 25,
   "metadata": {},
   "outputs": [],
   "source": [
    "from tensorflow import keras"
   ]
  },
  {
   "cell_type": "code",
   "execution_count": 26,
   "metadata": {},
   "outputs": [],
   "source": [
    "from keras.models import Sequential\n",
    "from keras.layers import Dense\n",
    "from keras.layers import LSTM\n",
    "from keras.layers import Dropout\n",
    "#from keras.models import *\n",
    "\n"
   ]
  },
  {
   "cell_type": "code",
   "execution_count": 27,
   "metadata": {},
   "outputs": [
    {
     "name": "stdout",
     "output_type": "stream",
     "text": [
      "Metal device set to: Apple M1\n",
      "\n",
      "systemMemory: 8.00 GB\n",
      "maxCacheSize: 2.67 GB\n",
      "\n"
     ]
    },
    {
     "name": "stderr",
     "output_type": "stream",
     "text": [
      "2022-11-03 20:58:35.956829: I tensorflow/core/common_runtime/pluggable_device/pluggable_device_factory.cc:306] Could not identify NUMA node of platform GPU ID 0, defaulting to 0. Your kernel may not have been built with NUMA support.\n",
      "2022-11-03 20:58:35.956984: I tensorflow/core/common_runtime/pluggable_device/pluggable_device_factory.cc:272] Created TensorFlow device (/job:localhost/replica:0/task:0/device:GPU:0 with 0 MB memory) -> physical PluggableDevice (device: 0, name: METAL, pci bus id: <undefined>)\n"
     ]
    },
    {
     "name": "stdout",
     "output_type": "stream",
     "text": [
      "Epoch 1/100\n"
     ]
    },
    {
     "name": "stderr",
     "output_type": "stream",
     "text": [
      "2022-11-03 20:58:36.655909: W tensorflow/core/platform/profile_utils/cpu_utils.cc:128] Failed to get CPU frequency: 0 Hz\n",
      "2022-11-03 20:58:39.049364: I tensorflow/core/grappler/optimizers/custom_graph_optimizer_registry.cc:114] Plugin optimizer for device_type GPU is enabled.\n",
      "2022-11-03 20:58:39.448061: I tensorflow/core/grappler/optimizers/custom_graph_optimizer_registry.cc:114] Plugin optimizer for device_type GPU is enabled.\n",
      "2022-11-03 20:58:39.643304: I tensorflow/core/grappler/optimizers/custom_graph_optimizer_registry.cc:114] Plugin optimizer for device_type GPU is enabled.\n",
      "2022-11-03 20:58:39.798824: I tensorflow/core/grappler/optimizers/custom_graph_optimizer_registry.cc:114] Plugin optimizer for device_type GPU is enabled.\n",
      "2022-11-03 20:58:39.949412: I tensorflow/core/grappler/optimizers/custom_graph_optimizer_registry.cc:114] Plugin optimizer for device_type GPU is enabled.\n",
      "2022-11-03 20:58:40.152691: I tensorflow/core/grappler/optimizers/custom_graph_optimizer_registry.cc:114] Plugin optimizer for device_type GPU is enabled.\n",
      "2022-11-03 20:58:40.484681: I tensorflow/core/grappler/optimizers/custom_graph_optimizer_registry.cc:114] Plugin optimizer for device_type GPU is enabled.\n",
      "2022-11-03 20:58:40.773595: I tensorflow/core/grappler/optimizers/custom_graph_optimizer_registry.cc:114] Plugin optimizer for device_type GPU is enabled.\n",
      "2022-11-03 20:58:41.087042: I tensorflow/core/grappler/optimizers/custom_graph_optimizer_registry.cc:114] Plugin optimizer for device_type GPU is enabled.\n"
     ]
    },
    {
     "name": "stdout",
     "output_type": "stream",
     "text": [
      "4/4 [==============================] - 6s 554ms/step - loss: 0.0855\n",
      "Epoch 2/100\n",
      "4/4 [==============================] - 0s 95ms/step - loss: 0.0337\n",
      "Epoch 3/100\n",
      "4/4 [==============================] - 0s 94ms/step - loss: 0.0211\n",
      "Epoch 4/100\n",
      "4/4 [==============================] - 0s 98ms/step - loss: 0.0241\n",
      "Epoch 5/100\n",
      "4/4 [==============================] - 0s 94ms/step - loss: 0.0182\n",
      "Epoch 6/100\n",
      "4/4 [==============================] - 0s 94ms/step - loss: 0.0188\n",
      "Epoch 7/100\n",
      "4/4 [==============================] - 0s 95ms/step - loss: 0.0152\n",
      "Epoch 8/100\n",
      "4/4 [==============================] - 0s 95ms/step - loss: 0.0151\n",
      "Epoch 9/100\n",
      "4/4 [==============================] - 0s 98ms/step - loss: 0.0138\n",
      "Epoch 10/100\n",
      "4/4 [==============================] - 0s 100ms/step - loss: 0.0129\n",
      "Epoch 11/100\n",
      "4/4 [==============================] - 0s 100ms/step - loss: 0.0144\n",
      "Epoch 12/100\n",
      "4/4 [==============================] - 0s 100ms/step - loss: 0.0129\n",
      "Epoch 13/100\n",
      "4/4 [==============================] - 0s 94ms/step - loss: 0.0122\n",
      "Epoch 14/100\n",
      "4/4 [==============================] - 0s 94ms/step - loss: 0.0120\n",
      "Epoch 15/100\n",
      "4/4 [==============================] - 0s 95ms/step - loss: 0.0115\n",
      "Epoch 16/100\n",
      "4/4 [==============================] - 0s 94ms/step - loss: 0.0109\n",
      "Epoch 17/100\n",
      "4/4 [==============================] - 0s 96ms/step - loss: 0.0120\n",
      "Epoch 18/100\n",
      "4/4 [==============================] - 0s 100ms/step - loss: 0.0102\n",
      "Epoch 19/100\n",
      "4/4 [==============================] - 0s 100ms/step - loss: 0.0102\n",
      "Epoch 20/100\n",
      "4/4 [==============================] - 0s 101ms/step - loss: 0.0099\n",
      "Epoch 21/100\n",
      "4/4 [==============================] - 0s 97ms/step - loss: 0.0095\n",
      "Epoch 22/100\n",
      "4/4 [==============================] - 0s 94ms/step - loss: 0.0104\n",
      "Epoch 23/100\n",
      "4/4 [==============================] - 0s 94ms/step - loss: 0.0088\n",
      "Epoch 24/100\n",
      "4/4 [==============================] - 0s 95ms/step - loss: 0.0083\n",
      "Epoch 25/100\n",
      "4/4 [==============================] - 0s 94ms/step - loss: 0.0074\n",
      "Epoch 26/100\n",
      "4/4 [==============================] - 0s 93ms/step - loss: 0.0081\n",
      "Epoch 27/100\n",
      "4/4 [==============================] - 0s 93ms/step - loss: 0.0073\n",
      "Epoch 28/100\n",
      "4/4 [==============================] - 0s 94ms/step - loss: 0.0078\n",
      "Epoch 29/100\n",
      "4/4 [==============================] - 0s 94ms/step - loss: 0.0073\n",
      "Epoch 30/100\n",
      "4/4 [==============================] - 0s 94ms/step - loss: 0.0074\n",
      "Epoch 31/100\n",
      "4/4 [==============================] - 0s 94ms/step - loss: 0.0065\n",
      "Epoch 32/100\n",
      "4/4 [==============================] - 0s 93ms/step - loss: 0.0069\n",
      "Epoch 33/100\n",
      "4/4 [==============================] - 0s 99ms/step - loss: 0.0059\n",
      "Epoch 34/100\n",
      "4/4 [==============================] - 0s 96ms/step - loss: 0.0055\n",
      "Epoch 35/100\n",
      "4/4 [==============================] - 0s 95ms/step - loss: 0.0059\n",
      "Epoch 36/100\n",
      "4/4 [==============================] - 0s 108ms/step - loss: 0.0057\n",
      "Epoch 37/100\n",
      "4/4 [==============================] - 0s 94ms/step - loss: 0.0052\n",
      "Epoch 38/100\n",
      "4/4 [==============================] - 0s 94ms/step - loss: 0.0059\n",
      "Epoch 39/100\n",
      "4/4 [==============================] - 0s 93ms/step - loss: 0.0050\n",
      "Epoch 40/100\n",
      "4/4 [==============================] - 0s 93ms/step - loss: 0.0049\n",
      "Epoch 41/100\n",
      "4/4 [==============================] - 0s 93ms/step - loss: 0.0049\n",
      "Epoch 42/100\n",
      "4/4 [==============================] - 0s 93ms/step - loss: 0.0049\n",
      "Epoch 43/100\n",
      "4/4 [==============================] - 0s 93ms/step - loss: 0.0044\n",
      "Epoch 44/100\n",
      "4/4 [==============================] - 0s 94ms/step - loss: 0.0041\n",
      "Epoch 45/100\n",
      "4/4 [==============================] - 0s 93ms/step - loss: 0.0052\n",
      "Epoch 46/100\n",
      "4/4 [==============================] - 0s 93ms/step - loss: 0.0043\n",
      "Epoch 47/100\n",
      "4/4 [==============================] - 0s 93ms/step - loss: 0.0045\n",
      "Epoch 48/100\n",
      "4/4 [==============================] - 0s 93ms/step - loss: 0.0051\n",
      "Epoch 49/100\n",
      "4/4 [==============================] - 0s 104ms/step - loss: 0.0055\n",
      "Epoch 50/100\n",
      "4/4 [==============================] - 0s 95ms/step - loss: 0.0055\n",
      "Epoch 51/100\n",
      "4/4 [==============================] - 0s 95ms/step - loss: 0.0052\n",
      "Epoch 52/100\n",
      "4/4 [==============================] - 0s 95ms/step - loss: 0.0039\n",
      "Epoch 53/100\n",
      "4/4 [==============================] - 0s 99ms/step - loss: 0.0038\n",
      "Epoch 54/100\n",
      "4/4 [==============================] - 0s 100ms/step - loss: 0.0037\n",
      "Epoch 55/100\n",
      "4/4 [==============================] - 0s 95ms/step - loss: 0.0041\n",
      "Epoch 56/100\n",
      "4/4 [==============================] - 0s 97ms/step - loss: 0.0035\n",
      "Epoch 57/100\n",
      "4/4 [==============================] - 0s 95ms/step - loss: 0.0029\n",
      "Epoch 58/100\n",
      "4/4 [==============================] - 0s 94ms/step - loss: 0.0026\n",
      "Epoch 59/100\n",
      "4/4 [==============================] - 0s 94ms/step - loss: 0.0032\n",
      "Epoch 60/100\n",
      "4/4 [==============================] - 0s 94ms/step - loss: 0.0029\n",
      "Epoch 61/100\n",
      "4/4 [==============================] - 0s 94ms/step - loss: 0.0028\n",
      "Epoch 62/100\n",
      "4/4 [==============================] - 0s 94ms/step - loss: 0.0030\n",
      "Epoch 63/100\n",
      "4/4 [==============================] - 0s 95ms/step - loss: 0.0035\n",
      "Epoch 64/100\n",
      "4/4 [==============================] - 0s 95ms/step - loss: 0.0035\n",
      "Epoch 65/100\n",
      "4/4 [==============================] - 0s 95ms/step - loss: 0.0031\n",
      "Epoch 66/100\n",
      "4/4 [==============================] - 0s 95ms/step - loss: 0.0032\n",
      "Epoch 67/100\n",
      "4/4 [==============================] - 0s 95ms/step - loss: 0.0050\n",
      "Epoch 68/100\n",
      "4/4 [==============================] - 0s 95ms/step - loss: 0.0033\n",
      "Epoch 69/100\n",
      "4/4 [==============================] - 0s 102ms/step - loss: 0.0033\n",
      "Epoch 70/100\n",
      "4/4 [==============================] - 0s 101ms/step - loss: 0.0028\n",
      "Epoch 71/100\n",
      "4/4 [==============================] - 0s 101ms/step - loss: 0.0034\n",
      "Epoch 72/100\n",
      "4/4 [==============================] - 0s 101ms/step - loss: 0.0033\n",
      "Epoch 73/100\n",
      "4/4 [==============================] - 0s 97ms/step - loss: 0.0032\n",
      "Epoch 74/100\n",
      "4/4 [==============================] - 0s 94ms/step - loss: 0.0033\n",
      "Epoch 75/100\n",
      "4/4 [==============================] - 0s 94ms/step - loss: 0.0029\n",
      "Epoch 76/100\n",
      "4/4 [==============================] - 0s 98ms/step - loss: 0.0034\n",
      "Epoch 77/100\n",
      "4/4 [==============================] - 0s 104ms/step - loss: 0.0035\n",
      "Epoch 78/100\n",
      "4/4 [==============================] - 1s 129ms/step - loss: 0.0036\n",
      "Epoch 79/100\n",
      "4/4 [==============================] - 1s 138ms/step - loss: 0.0026\n",
      "Epoch 80/100\n",
      "4/4 [==============================] - 0s 95ms/step - loss: 0.0031\n",
      "Epoch 81/100\n",
      "4/4 [==============================] - 0s 92ms/step - loss: 0.0028\n",
      "Epoch 82/100\n",
      "4/4 [==============================] - 0s 94ms/step - loss: 0.0027\n",
      "Epoch 83/100\n",
      "4/4 [==============================] - 0s 114ms/step - loss: 0.0027\n",
      "Epoch 84/100\n",
      "4/4 [==============================] - 0s 107ms/step - loss: 0.0024\n",
      "Epoch 85/100\n",
      "4/4 [==============================] - 0s 95ms/step - loss: 0.0029\n",
      "Epoch 86/100\n",
      "4/4 [==============================] - 0s 94ms/step - loss: 0.0026\n",
      "Epoch 87/100\n",
      "4/4 [==============================] - 0s 98ms/step - loss: 0.0023\n",
      "Epoch 88/100\n",
      "4/4 [==============================] - 0s 92ms/step - loss: 0.0026\n",
      "Epoch 89/100\n",
      "4/4 [==============================] - 0s 92ms/step - loss: 0.0028\n",
      "Epoch 90/100\n",
      "4/4 [==============================] - 0s 95ms/step - loss: 0.0026\n",
      "Epoch 91/100\n",
      "4/4 [==============================] - 0s 99ms/step - loss: 0.0027\n",
      "Epoch 92/100\n",
      "4/4 [==============================] - 0s 95ms/step - loss: 0.0027\n",
      "Epoch 93/100\n",
      "4/4 [==============================] - 0s 95ms/step - loss: 0.0026\n",
      "Epoch 94/100\n",
      "4/4 [==============================] - 0s 93ms/step - loss: 0.0024\n",
      "Epoch 95/100\n",
      "4/4 [==============================] - 0s 92ms/step - loss: 0.0026\n",
      "Epoch 96/100\n",
      "4/4 [==============================] - 0s 95ms/step - loss: 0.0029\n",
      "Epoch 97/100\n",
      "4/4 [==============================] - 0s 93ms/step - loss: 0.0028\n",
      "Epoch 98/100\n",
      "4/4 [==============================] - 0s 93ms/step - loss: 0.0025\n",
      "Epoch 99/100\n",
      "4/4 [==============================] - 0s 99ms/step - loss: 0.0029\n",
      "Epoch 100/100\n",
      "4/4 [==============================] - 0s 94ms/step - loss: 0.0023\n"
     ]
    },
    {
     "data": {
      "text/plain": [
       "<keras.callbacks.History at 0x28d3464d0>"
      ]
     },
     "execution_count": 27,
     "metadata": {},
     "output_type": "execute_result"
    }
   ],
   "source": [
    "model = Sequential()\n",
    "# Adding the first LSTM layer and some Dropout regularisation\n",
    "model.add(LSTM(units = 50, return_sequences = True, input_shape = (X_train.shape[1], 1)))\n",
    "model.add(Dropout(0.2))\n",
    "\n",
    "# Adding a second LSTM layer and some Dropout regularisation\n",
    "model.add(LSTM(units = 50, return_sequences = True))\n",
    "model.add(Dropout(0.2))\n",
    "\n",
    "# Adding a third LSTM layer and some Dropout regularisation\n",
    "model.add(LSTM(units = 50, return_sequences = True))\n",
    "model.add(Dropout(0.2))\n",
    "\n",
    "# Adding a fourth LSTM layer and some Dropout regularisation\n",
    "model.add(LSTM(units = 50))\n",
    "model.add(Dropout(0.2))\n",
    "\n",
    "# Adding the output layer\n",
    "model.add(Dense(1))\n",
    "\n",
    "# Compiling the RNN\n",
    "model.compile(optimizer = 'adam', loss = 'mean_squared_error')\n",
    "\n",
    "# Fitting the RNN to the Training set\n",
    "model.fit(X_train, y_train, epochs = 100, batch_size = 200) "
   ]
  },
  {
   "cell_type": "code",
   "execution_count": 28,
   "metadata": {},
   "outputs": [
    {
     "name": "stdout",
     "output_type": "stream",
     "text": [
      "Epoch 1/100\n",
      "11/11 [==============================] - ETA: 0s - loss: 0.0026"
     ]
    },
    {
     "name": "stderr",
     "output_type": "stream",
     "text": [
      "2022-11-03 20:59:26.164851: I tensorflow/core/grappler/optimizers/custom_graph_optimizer_registry.cc:114] Plugin optimizer for device_type GPU is enabled.\n",
      "2022-11-03 20:59:26.306844: I tensorflow/core/grappler/optimizers/custom_graph_optimizer_registry.cc:114] Plugin optimizer for device_type GPU is enabled.\n",
      "2022-11-03 20:59:26.448624: I tensorflow/core/grappler/optimizers/custom_graph_optimizer_registry.cc:114] Plugin optimizer for device_type GPU is enabled.\n",
      "2022-11-03 20:59:26.606390: I tensorflow/core/grappler/optimizers/custom_graph_optimizer_registry.cc:114] Plugin optimizer for device_type GPU is enabled.\n",
      "2022-11-03 20:59:26.754898: I tensorflow/core/grappler/optimizers/custom_graph_optimizer_registry.cc:114] Plugin optimizer for device_type GPU is enabled.\n"
     ]
    },
    {
     "name": "stdout",
     "output_type": "stream",
     "text": [
      "11/11 [==============================] - 6s 417ms/step - loss: 0.0026 - val_loss: 3.2477e-04\n",
      "Epoch 2/100\n",
      "11/11 [==============================] - 1s 122ms/step - loss: 0.0036 - val_loss: 0.0010\n",
      "Epoch 3/100\n",
      "11/11 [==============================] - 1s 121ms/step - loss: 0.0035 - val_loss: 5.0842e-04\n",
      "Epoch 4/100\n",
      "11/11 [==============================] - 1s 117ms/step - loss: 0.0031 - val_loss: 5.6325e-04\n",
      "Epoch 5/100\n",
      "11/11 [==============================] - 1s 117ms/step - loss: 0.0031 - val_loss: 3.0439e-04\n",
      "Epoch 6/100\n",
      "11/11 [==============================] - 1s 116ms/step - loss: 0.0027 - val_loss: 6.3554e-04\n",
      "Epoch 7/100\n",
      "11/11 [==============================] - 1s 116ms/step - loss: 0.0038 - val_loss: 0.0016\n",
      "Epoch 8/100\n",
      "11/11 [==============================] - 1s 118ms/step - loss: 0.0050 - val_loss: 5.7585e-04\n",
      "Epoch 9/100\n",
      "11/11 [==============================] - 1s 117ms/step - loss: 0.0084 - val_loss: 4.7904e-04\n",
      "Epoch 10/100\n",
      "11/11 [==============================] - 2s 148ms/step - loss: 0.0080 - val_loss: 0.0029\n",
      "Epoch 11/100\n",
      "11/11 [==============================] - 1s 116ms/step - loss: 0.0050 - val_loss: 3.5312e-04\n",
      "Epoch 12/100\n",
      "11/11 [==============================] - 1s 118ms/step - loss: 0.0048 - val_loss: 4.4739e-04\n",
      "Epoch 13/100\n",
      "11/11 [==============================] - 1s 116ms/step - loss: 0.0034 - val_loss: 3.0821e-04\n",
      "Epoch 14/100\n",
      "11/11 [==============================] - 1s 119ms/step - loss: 0.0027 - val_loss: 3.4655e-04\n",
      "Epoch 15/100\n",
      "11/11 [==============================] - 1s 120ms/step - loss: 0.0032 - val_loss: 2.9364e-04\n",
      "Epoch 16/100\n",
      "11/11 [==============================] - 1s 117ms/step - loss: 0.0025 - val_loss: 4.3086e-04\n",
      "Epoch 17/100\n",
      "11/11 [==============================] - 1s 122ms/step - loss: 0.0028 - val_loss: 4.2327e-04\n",
      "Epoch 18/100\n",
      "11/11 [==============================] - 1s 116ms/step - loss: 0.0023 - val_loss: 2.9617e-04\n",
      "Epoch 19/100\n",
      "11/11 [==============================] - 1s 121ms/step - loss: 0.0022 - val_loss: 2.8985e-04\n",
      "Epoch 20/100\n",
      "11/11 [==============================] - 1s 121ms/step - loss: 0.0023 - val_loss: 3.9333e-04\n",
      "Epoch 21/100\n",
      "11/11 [==============================] - 1s 119ms/step - loss: 0.0025 - val_loss: 3.1384e-04\n",
      "Epoch 22/100\n",
      "11/11 [==============================] - 1s 121ms/step - loss: 0.0028 - val_loss: 3.1992e-04\n",
      "Epoch 23/100\n",
      "11/11 [==============================] - 1s 118ms/step - loss: 0.0018 - val_loss: 3.8671e-04\n",
      "Epoch 24/100\n",
      "11/11 [==============================] - 1s 120ms/step - loss: 0.0020 - val_loss: 3.6178e-04\n",
      "Epoch 25/100\n",
      "11/11 [==============================] - 1s 119ms/step - loss: 0.0018 - val_loss: 3.3049e-04\n",
      "Epoch 26/100\n",
      "11/11 [==============================] - 1s 120ms/step - loss: 0.0019 - val_loss: 3.1553e-04\n",
      "Epoch 27/100\n",
      "11/11 [==============================] - 1s 120ms/step - loss: 0.0018 - val_loss: 3.0196e-04\n",
      "Epoch 28/100\n",
      "11/11 [==============================] - 1s 120ms/step - loss: 0.0017 - val_loss: 3.9194e-04\n",
      "Epoch 29/100\n",
      "11/11 [==============================] - 1s 116ms/step - loss: 0.0017 - val_loss: 3.3728e-04\n",
      "Epoch 30/100\n",
      "11/11 [==============================] - 1s 121ms/step - loss: 0.0015 - val_loss: 3.6290e-04\n",
      "Epoch 31/100\n",
      "11/11 [==============================] - 1s 121ms/step - loss: 0.0027 - val_loss: 4.3567e-04\n",
      "Epoch 32/100\n",
      "11/11 [==============================] - 1s 117ms/step - loss: 0.0056 - val_loss: 2.9925e-04\n",
      "Epoch 33/100\n",
      "11/11 [==============================] - 1s 116ms/step - loss: 0.0062 - val_loss: 4.5783e-04\n",
      "Epoch 34/100\n",
      "11/11 [==============================] - 1s 116ms/step - loss: 0.0042 - val_loss: 0.0013\n",
      "Epoch 35/100\n",
      "11/11 [==============================] - 1s 116ms/step - loss: 0.0030 - val_loss: 3.3913e-04\n",
      "Epoch 36/100\n",
      "11/11 [==============================] - 1s 116ms/step - loss: 0.0029 - val_loss: 4.1368e-04\n",
      "Epoch 37/100\n",
      "11/11 [==============================] - 1s 116ms/step - loss: 0.0022 - val_loss: 3.1508e-04\n",
      "Epoch 38/100\n",
      "11/11 [==============================] - 1s 126ms/step - loss: 0.0031 - val_loss: 8.5280e-04\n",
      "Epoch 39/100\n",
      "11/11 [==============================] - 1s 120ms/step - loss: 0.0026 - val_loss: 5.6715e-04\n",
      "Epoch 40/100\n",
      "11/11 [==============================] - 1s 119ms/step - loss: 0.0020 - val_loss: 3.1614e-04\n",
      "Epoch 41/100\n",
      "11/11 [==============================] - 1s 116ms/step - loss: 0.0015 - val_loss: 3.0392e-04\n",
      "Epoch 42/100\n",
      "11/11 [==============================] - 1s 118ms/step - loss: 0.0019 - val_loss: 3.3127e-04\n",
      "Epoch 43/100\n",
      "11/11 [==============================] - 1s 119ms/step - loss: 0.0018 - val_loss: 3.8521e-04\n",
      "Epoch 44/100\n",
      "11/11 [==============================] - 1s 126ms/step - loss: 0.0024 - val_loss: 4.1729e-04\n",
      "Epoch 45/100\n",
      "11/11 [==============================] - 1s 119ms/step - loss: 0.0027 - val_loss: 7.0606e-04\n",
      "Epoch 46/100\n",
      "11/11 [==============================] - 1s 122ms/step - loss: 0.0025 - val_loss: 6.5134e-04\n",
      "Epoch 47/100\n",
      "11/11 [==============================] - 1s 117ms/step - loss: 0.0019 - val_loss: 2.9213e-04\n",
      "Epoch 48/100\n",
      "11/11 [==============================] - 1s 118ms/step - loss: 0.0018 - val_loss: 7.4109e-04\n",
      "Epoch 49/100\n",
      "11/11 [==============================] - 1s 121ms/step - loss: 0.0025 - val_loss: 3.6174e-04\n",
      "Epoch 50/100\n",
      "11/11 [==============================] - 1s 118ms/step - loss: 0.0024 - val_loss: 3.2947e-04\n",
      "Epoch 51/100\n",
      "11/11 [==============================] - 1s 117ms/step - loss: 0.0015 - val_loss: 4.4847e-04\n",
      "Epoch 52/100\n",
      "11/11 [==============================] - 1s 118ms/step - loss: 0.0019 - val_loss: 2.8695e-04\n",
      "Epoch 53/100\n",
      "11/11 [==============================] - 1s 120ms/step - loss: 0.0018 - val_loss: 3.0701e-04\n",
      "Epoch 54/100\n",
      "11/11 [==============================] - 1s 118ms/step - loss: 0.0019 - val_loss: 2.9339e-04\n",
      "Epoch 55/100\n",
      "11/11 [==============================] - 1s 117ms/step - loss: 0.0014 - val_loss: 2.8200e-04\n",
      "Epoch 56/100\n",
      "11/11 [==============================] - 1s 126ms/step - loss: 0.0013 - val_loss: 3.1326e-04\n",
      "Epoch 57/100\n",
      "11/11 [==============================] - 1s 127ms/step - loss: 0.0016 - val_loss: 3.6567e-04\n",
      "Epoch 58/100\n",
      "11/11 [==============================] - 1s 118ms/step - loss: 0.0022 - val_loss: 3.4492e-04\n",
      "Epoch 59/100\n",
      "11/11 [==============================] - 1s 121ms/step - loss: 0.0018 - val_loss: 3.0730e-04\n",
      "Epoch 60/100\n",
      "11/11 [==============================] - 1s 120ms/step - loss: 0.0018 - val_loss: 3.5998e-04\n",
      "Epoch 61/100\n",
      "11/11 [==============================] - 1s 118ms/step - loss: 0.0016 - val_loss: 4.4630e-04\n",
      "Epoch 62/100\n",
      "11/11 [==============================] - 1s 118ms/step - loss: 0.0016 - val_loss: 4.2840e-04\n",
      "Epoch 63/100\n",
      "11/11 [==============================] - 1s 118ms/step - loss: 0.0016 - val_loss: 2.8545e-04\n",
      "Epoch 64/100\n",
      "11/11 [==============================] - 1s 117ms/step - loss: 0.0018 - val_loss: 3.2440e-04\n",
      "Epoch 65/100\n",
      "11/11 [==============================] - 1s 118ms/step - loss: 0.0016 - val_loss: 2.6785e-04\n",
      "Epoch 66/100\n",
      "11/11 [==============================] - 1s 117ms/step - loss: 0.0017 - val_loss: 2.7918e-04\n",
      "Epoch 67/100\n",
      "11/11 [==============================] - 1s 117ms/step - loss: 0.0013 - val_loss: 2.8535e-04\n",
      "Epoch 68/100\n",
      "11/11 [==============================] - 1s 117ms/step - loss: 0.0013 - val_loss: 3.0025e-04\n",
      "Epoch 69/100\n",
      "11/11 [==============================] - 1s 117ms/step - loss: 0.0013 - val_loss: 2.9992e-04\n",
      "Epoch 70/100\n",
      "11/11 [==============================] - 1s 117ms/step - loss: 0.0017 - val_loss: 5.9625e-04\n",
      "Epoch 71/100\n",
      "11/11 [==============================] - 1s 116ms/step - loss: 0.0020 - val_loss: 4.4482e-04\n",
      "Epoch 72/100\n",
      "11/11 [==============================] - 1s 117ms/step - loss: 0.0014 - val_loss: 2.7227e-04\n",
      "Epoch 73/100\n",
      "11/11 [==============================] - 1s 116ms/step - loss: 0.0021 - val_loss: 3.1678e-04\n",
      "Epoch 74/100\n",
      "11/11 [==============================] - 1s 116ms/step - loss: 0.0016 - val_loss: 2.8157e-04\n",
      "Epoch 75/100\n",
      "11/11 [==============================] - 1s 116ms/step - loss: 0.0021 - val_loss: 3.4709e-04\n",
      "Epoch 76/100\n",
      "11/11 [==============================] - 1s 117ms/step - loss: 0.0016 - val_loss: 2.8695e-04\n",
      "Epoch 77/100\n",
      "11/11 [==============================] - 1s 117ms/step - loss: 0.0012 - val_loss: 4.0639e-04\n",
      "Epoch 78/100\n",
      "11/11 [==============================] - 1s 118ms/step - loss: 0.0013 - val_loss: 3.0456e-04\n",
      "Epoch 79/100\n",
      "11/11 [==============================] - 1s 117ms/step - loss: 0.0010 - val_loss: 2.8104e-04\n",
      "Epoch 80/100\n",
      "11/11 [==============================] - 1s 116ms/step - loss: 0.0012 - val_loss: 3.8109e-04\n",
      "Epoch 81/100\n",
      "11/11 [==============================] - 1s 117ms/step - loss: 9.0172e-04 - val_loss: 3.1843e-04\n",
      "Epoch 82/100\n",
      "11/11 [==============================] - 1s 116ms/step - loss: 0.0023 - val_loss: 3.6150e-04\n",
      "Epoch 83/100\n",
      "11/11 [==============================] - 1s 116ms/step - loss: 0.0016 - val_loss: 6.8155e-04\n",
      "Epoch 84/100\n",
      "11/11 [==============================] - 1s 116ms/step - loss: 0.0023 - val_loss: 5.2882e-04\n",
      "Epoch 85/100\n",
      "11/11 [==============================] - 1s 117ms/step - loss: 0.0030 - val_loss: 8.4526e-04\n",
      "Epoch 86/100\n",
      "11/11 [==============================] - 1s 118ms/step - loss: 0.0029 - val_loss: 2.5730e-04\n",
      "Epoch 87/100\n",
      "11/11 [==============================] - 1s 116ms/step - loss: 0.0017 - val_loss: 2.6030e-04\n",
      "Epoch 88/100\n",
      "11/11 [==============================] - 1s 126ms/step - loss: 0.0015 - val_loss: 2.4976e-04\n",
      "Epoch 89/100\n",
      "11/11 [==============================] - 1s 124ms/step - loss: 0.0016 - val_loss: 3.0468e-04\n",
      "Epoch 90/100\n",
      "11/11 [==============================] - 1s 119ms/step - loss: 0.0014 - val_loss: 8.2339e-04\n",
      "Epoch 91/100\n",
      "11/11 [==============================] - 1s 116ms/step - loss: 0.0017 - val_loss: 3.1875e-04\n",
      "Epoch 92/100\n",
      "11/11 [==============================] - 1s 118ms/step - loss: 0.0016 - val_loss: 2.5068e-04\n",
      "Epoch 93/100\n",
      "11/11 [==============================] - 1s 117ms/step - loss: 0.0018 - val_loss: 3.9676e-04\n",
      "Epoch 94/100\n",
      "11/11 [==============================] - 1s 116ms/step - loss: 0.0041 - val_loss: 0.0018\n",
      "Epoch 95/100\n",
      "11/11 [==============================] - 1s 117ms/step - loss: 0.0067 - val_loss: 0.0022\n",
      "Epoch 96/100\n",
      "11/11 [==============================] - 1s 116ms/step - loss: 0.0044 - val_loss: 6.3574e-04\n",
      "Epoch 97/100\n",
      "11/11 [==============================] - 1s 116ms/step - loss: 0.0021 - val_loss: 2.7557e-04\n",
      "Epoch 98/100\n",
      "11/11 [==============================] - 1s 116ms/step - loss: 0.0025 - val_loss: 2.3714e-04\n",
      "Epoch 99/100\n",
      "11/11 [==============================] - 1s 116ms/step - loss: 0.0019 - val_loss: 2.3322e-04\n",
      "Epoch 100/100\n",
      "11/11 [==============================] - 1s 116ms/step - loss: 0.0016 - val_loss: 2.5647e-04\n"
     ]
    },
    {
     "data": {
      "text/plain": [
       "<keras.callbacks.History at 0x2935c7220>"
      ]
     },
     "execution_count": 28,
     "metadata": {},
     "output_type": "execute_result"
    }
   ],
   "source": [
    "model.fit(X_train,y_train,validation_data=(X_test,ytest),epochs=100,batch_size=64,verbose=1)\n"
   ]
  },
  {
   "cell_type": "code",
   "execution_count": 29,
   "metadata": {},
   "outputs": [
    {
     "name": "stdout",
     "output_type": "stream",
     "text": [
      "Model: \"sequential\"\n",
      "_________________________________________________________________\n",
      " Layer (type)                Output Shape              Param #   \n",
      "=================================================================\n",
      " lstm (LSTM)                 (None, 100, 50)           10400     \n",
      "                                                                 \n",
      " dropout (Dropout)           (None, 100, 50)           0         \n",
      "                                                                 \n",
      " lstm_1 (LSTM)               (None, 100, 50)           20200     \n",
      "                                                                 \n",
      " dropout_1 (Dropout)         (None, 100, 50)           0         \n",
      "                                                                 \n",
      " lstm_2 (LSTM)               (None, 100, 50)           20200     \n",
      "                                                                 \n",
      " dropout_2 (Dropout)         (None, 100, 50)           0         \n",
      "                                                                 \n",
      " lstm_3 (LSTM)               (None, 50)                20200     \n",
      "                                                                 \n",
      " dropout_3 (Dropout)         (None, 50)                0         \n",
      "                                                                 \n",
      " dense (Dense)               (None, 1)                 51        \n",
      "                                                                 \n",
      "=================================================================\n",
      "Total params: 71,051\n",
      "Trainable params: 71,051\n",
      "Non-trainable params: 0\n",
      "_________________________________________________________________\n"
     ]
    }
   ],
   "source": [
    "model.summary()\n"
   ]
  },
  {
   "cell_type": "code",
   "execution_count": 30,
   "metadata": {},
   "outputs": [
    {
     "name": "stderr",
     "output_type": "stream",
     "text": [
      "2022-11-03 21:01:34.417537: I tensorflow/core/grappler/optimizers/custom_graph_optimizer_registry.cc:114] Plugin optimizer for device_type GPU is enabled.\n",
      "2022-11-03 21:01:34.562025: I tensorflow/core/grappler/optimizers/custom_graph_optimizer_registry.cc:114] Plugin optimizer for device_type GPU is enabled.\n",
      "2022-11-03 21:01:34.714064: I tensorflow/core/grappler/optimizers/custom_graph_optimizer_registry.cc:114] Plugin optimizer for device_type GPU is enabled.\n",
      "2022-11-03 21:01:34.855208: I tensorflow/core/grappler/optimizers/custom_graph_optimizer_registry.cc:114] Plugin optimizer for device_type GPU is enabled.\n"
     ]
    },
    {
     "name": "stdout",
     "output_type": "stream",
     "text": [
      " 1/11 [=>............................] - ETA: 12s"
     ]
    },
    {
     "name": "stderr",
     "output_type": "stream",
     "text": [
      "2022-11-03 21:01:34.999915: I tensorflow/core/grappler/optimizers/custom_graph_optimizer_registry.cc:114] Plugin optimizer for device_type GPU is enabled.\n"
     ]
    },
    {
     "name": "stdout",
     "output_type": "stream",
     "text": [
      "11/11 [==============================] - 2s 91ms/step\n",
      "(335, 1)\n"
     ]
    }
   ],
   "source": [
    "predicted_stock_price = model.predict(X_test[:-30]) # est prédit jusqu'à -30 jours de la fin du test set\n",
    "predicted_stock_price = scalar.inverse_transform(predicted_stock_price)\n",
    "print(predicted_stock_price.shape)"
   ]
  },
  {
   "cell_type": "code",
   "execution_count": 31,
   "metadata": {},
   "outputs": [
    {
     "name": "stdout",
     "output_type": "stream",
     "text": [
      "22/22 [==============================] - 1s 68ms/step\n",
      "12/12 [==============================] - 1s 84ms/step\n"
     ]
    }
   ],
   "source": [
    "### Lets Do the prediction and check performance metrics\n",
    "train_predict=model.predict(X_train)\n",
    "test_predict=model.predict(X_test)"
   ]
  },
  {
   "cell_type": "code",
   "execution_count": 32,
   "metadata": {},
   "outputs": [],
   "source": [
    "train_predict=scalar.inverse_transform(train_predict)\n",
    "test_predict=scalar.inverse_transform(test_predict)\n"
   ]
  },
  {
   "cell_type": "code",
   "execution_count": 33,
   "metadata": {},
   "outputs": [
    {
     "data": {
      "text/plain": [
       "235.8717321294232"
      ]
     },
     "execution_count": 33,
     "metadata": {},
     "output_type": "execute_result"
    }
   ],
   "source": [
    "### Calculate RMSE performance metrics\n",
    "import math\n",
    "from sklearn.metrics import mean_squared_error\n",
    "math.sqrt(mean_squared_error(y_train,train_predict))"
   ]
  },
  {
   "cell_type": "code",
   "execution_count": 34,
   "metadata": {},
   "outputs": [
    {
     "data": {
      "text/plain": [
       "156.0030976932948"
      ]
     },
     "execution_count": 34,
     "metadata": {},
     "output_type": "execute_result"
    }
   ],
   "source": [
    "### Test Data RMSE\n",
    "math.sqrt(mean_squared_error(ytest,test_predict))"
   ]
  },
  {
   "cell_type": "code",
   "execution_count": 35,
   "metadata": {},
   "outputs": [
    {
     "data": {
      "image/png": "[encoded data removed]",
      "text/plain": [
       "<Figure size 1440x864 with 1 Axes>"
      ]
     },
     "metadata": {
      "needs_background": "light"
     },
     "output_type": "display_data"
    }
   ],
   "source": [
    "### Plotting \n",
    "# shift train predictions for plotting\n",
    "from turtle import title\n",
    "\n",
    "\n",
    "look_back=100\n",
    "trainPredictPlot = np.empty_like(df)\n",
    "trainPredictPlot[:, :] = np.nan\n",
    "trainPredictPlot[look_back:len(train_predict)+look_back, :] = train_predict\n",
    "# shift test predictions for plotting\n",
    "testPredictPlot = np.empty_like(df)\n",
    "testPredictPlot[:, :] = np.nan\n",
    "testPredictPlot[len(train_predict)+(look_back*2)+1:len(df)-1, :] = test_predict\n",
    "# plot baseline and predictions\n",
    "plt.figure(figsize=(20,12))\n",
    "plt.plot( scalar.inverse_transform(df), color = 'black')\n",
    "plt.plot(trainPredictPlot)\n",
    "plt.plot(testPredictPlot)\n",
    "plt.show()"
   ]
  }
 ],
 "metadata": {
  "kernelspec": {
   "display_name": "Python 3.10.0 64-bit",
   "language": "python",
   "name": "python3"
  },
  "language_info": {
   "codemirror_mode": {
    "name": "ipython",
    "version": 3
   },
   "file_extension": ".py",
   "mimetype": "text/x-python",
   "name": "python",
   "nbconvert_exporter": "python",
   "pygments_lexer": "ipython3",
   "version": "3.10.0"
  },
  "orig_nbformat": 4,
  "vscode": {
   "interpreter": {
    "hash": "aee8b7b246df8f9039afb4144a1f6fd8d2ca17a180786b69acc140d282b71a49"
   }
  }
 },
 "nbformat": 4,
 "nbformat_minor": 2
}
